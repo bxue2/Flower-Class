{
 "cells": [
  {
   "cell_type": "code",
   "execution_count": 1,
   "id": "b1f2bf96-f722-43f5-85c3-e103039ce72b",
   "metadata": {},
   "outputs": [],
   "source": [
    "import numpy as np\n",
    "import pandas as pd\n",
    "import seaborn as sns\n",
    "import sklearn\n",
    "import matplotlib.pyplot as plt\n",
    "import os\n",
    "from PIL import Image\n",
    "import tensorflow as tf\n",
    "from tensorflow.keras.preprocessing.image import ImageDataGenerator\n",
    "from tensorflow.keras.models import Sequential\n",
    "from tensorflow.keras.layers import Conv2D, MaxPooling2D, Flatten, Dense, Dropout, Input"
   ]
  },
  {
   "cell_type": "markdown",
   "id": "f1d1f2b1-cfa3-41a4-8552-3542285189ea",
   "metadata": {},
   "source": [
    "### Problem\n",
    "The goal of this problem is to train a neural network to categorize pictures of flowers into 1 of 5 categories: Daisies, Dandelions, Roses, Sunflowers, and Tulips.\n",
    "\n",
    "This will be using a dataset of flower images taken from Kaggle: https://www.kaggle.com/datasets/rahmasleam/flowers-dataset/data"
   ]
  },
  {
   "cell_type": "markdown",
   "id": "e403f9ee-c40b-4b8e-b69d-eb6929619d20",
   "metadata": {},
   "source": [
    "### EDA\n",
    "Starting by importing the photos. The photos come in 5 folders (for each flower type), so I want to add them to the dataframe with the filename in one column, and the label (folder name) in the 2nd column. There are 3670 photos in total."
   ]
  },
  {
   "cell_type": "code",
   "execution_count": 2,
   "id": "dd79a853-b01e-4ea2-9644-ba3ed502adf0",
   "metadata": {},
   "outputs": [
    {
     "name": "stdout",
     "output_type": "stream",
     "text": [
      "<class 'pandas.core.frame.DataFrame'>\n",
      "RangeIndex: 3670 entries, 0 to 3669\n",
      "Data columns (total 2 columns):\n",
      " #   Column  Non-Null Count  Dtype \n",
      "---  ------  --------------  ----- \n",
      " 0   file    3670 non-null   object\n",
      " 1   label   3670 non-null   object\n",
      "dtypes: object(2)\n",
      "memory usage: 57.5+ KB\n",
      "None\n",
      "Index(['file', 'label'], dtype='object')\n"
     ]
    },
    {
     "data": {
      "text/html": [
       "<div>\n",
       "<style scoped>\n",
       "    .dataframe tbody tr th:only-of-type {\n",
       "        vertical-align: middle;\n",
       "    }\n",
       "\n",
       "    .dataframe tbody tr th {\n",
       "        vertical-align: top;\n",
       "    }\n",
       "\n",
       "    .dataframe thead th {\n",
       "        text-align: right;\n",
       "    }\n",
       "</style>\n",
       "<table border=\"1\" class=\"dataframe\">\n",
       "  <thead>\n",
       "    <tr style=\"text-align: right;\">\n",
       "      <th></th>\n",
       "      <th>file</th>\n",
       "      <th>label</th>\n",
       "    </tr>\n",
       "  </thead>\n",
       "  <tbody>\n",
       "    <tr>\n",
       "      <th>0</th>\n",
       "      <td>flower_photos/roses/16209331331_343c899d38.jpg</td>\n",
       "      <td>roses</td>\n",
       "    </tr>\n",
       "    <tr>\n",
       "      <th>1</th>\n",
       "      <td>flower_photos/roses/5777669976_a205f61e5b.jpg</td>\n",
       "      <td>roses</td>\n",
       "    </tr>\n",
       "    <tr>\n",
       "      <th>2</th>\n",
       "      <td>flower_photos/roses/4860145119_b1c3cbaa4e_n.jpg</td>\n",
       "      <td>roses</td>\n",
       "    </tr>\n",
       "    <tr>\n",
       "      <th>3</th>\n",
       "      <td>flower_photos/roses/15011625580_7974c44bce.jpg</td>\n",
       "      <td>roses</td>\n",
       "    </tr>\n",
       "    <tr>\n",
       "      <th>4</th>\n",
       "      <td>flower_photos/roses/17953368844_be3d18cf30_m.jpg</td>\n",
       "      <td>roses</td>\n",
       "    </tr>\n",
       "  </tbody>\n",
       "</table>\n",
       "</div>"
      ],
      "text/plain": [
       "                                               file  label\n",
       "0    flower_photos/roses/16209331331_343c899d38.jpg  roses\n",
       "1     flower_photos/roses/5777669976_a205f61e5b.jpg  roses\n",
       "2   flower_photos/roses/4860145119_b1c3cbaa4e_n.jpg  roses\n",
       "3    flower_photos/roses/15011625580_7974c44bce.jpg  roses\n",
       "4  flower_photos/roses/17953368844_be3d18cf30_m.jpg  roses"
      ]
     },
     "execution_count": 2,
     "metadata": {},
     "output_type": "execute_result"
    }
   ],
   "source": [
    "image_dir = [\"flower_photos\"]\n",
    "\n",
    "data = []\n",
    "\n",
    "for flower_dir in image_dir:\n",
    "\n",
    "        for subdir, _, files in os.walk(flower_dir):\n",
    "            label = os.path.basename(subdir)  \n",
    "            for file in files:\n",
    "                file_path = os.path.join(subdir, file)\n",
    "                data.append([file_path, label])\n",
    "                \n",
    "label_df = pd.DataFrame(data, columns=['file', 'label'])\n",
    "\n",
    "print(label_df.info())\n",
    "print(label_df.columns)\n",
    "label_df.head()"
   ]
  },
  {
   "cell_type": "markdown",
   "id": "3395bb91-6d21-4b7a-859e-ddee9d4a95a4",
   "metadata": {},
   "source": [
    "Since I'm making the dataframe myself, I don't really need to worry about checking for incorrect/null data. I do want to check the distribution of pictures to make sure it's relatively even. Looking at the graph, there's a bit of a gap between the number of dandelions and the others, but overall it's relatively even."
   ]
  },
  {
   "cell_type": "code",
   "execution_count": 5,
   "id": "9541c442-1aeb-45fa-807a-30b1ff11c6a5",
   "metadata": {},
   "outputs": [
    {
     "data": {
      "image/png": "[encoded data removed]",
      "text/plain": [
       "<Figure size 640x480 with 1 Axes>"
      ]
     },
     "metadata": {},
     "output_type": "display_data"
    }
   ],
   "source": [
    "# Label Distribution\n",
    "ax = sns.countplot(x='label', data=label_df)\n",
    "ax.bar_label(ax.containers[0])\n",
    "plt.title('Label Distribution')\n",
    "plt.show()"
   ]
  },
  {
   "cell_type": "markdown",
   "id": "52b74eb5-66de-4fb5-8e27-c6564f3b5468",
   "metadata": {},
   "source": [
    "### Building the Models"
   ]
  },
  {
   "cell_type": "code",
   "execution_count": null,
   "id": "66651a91-c4f1-4e64-84ec-341057b0a8f3",
   "metadata": {},
   "outputs": [],
   "source": [
    "# placeholder"
   ]
  },
  {
   "cell_type": "markdown",
   "id": "eac2f253-f263-4d25-8674-0ff104300a55",
   "metadata": {},
   "source": [
    "### Compiling Models"
   ]
  },
  {
   "cell_type": "code",
   "execution_count": null,
   "id": "e7acd90b-b499-421a-b376-21fec7cfd1e3",
   "metadata": {},
   "outputs": [],
   "source": [
    "# placeholder"
   ]
  },
  {
   "cell_type": "markdown",
   "id": "a6ba832c-a3b1-4576-8659-e74429b58a63",
   "metadata": {},
   "source": [
    "### Hyperparameter Tuning"
   ]
  },
  {
   "cell_type": "code",
   "execution_count": null,
   "id": "5f718540-85ec-4353-8565-acdb48a2939a",
   "metadata": {},
   "outputs": [],
   "source": [
    "# placeholder"
   ]
  },
  {
   "cell_type": "markdown",
   "id": "437db3b7-971b-4fa2-bfed-a23c46ab59e3",
   "metadata": {},
   "source": [
    "### Analysis + Conclusion"
   ]
  },
  {
   "cell_type": "code",
   "execution_count": 1,
   "id": "f5902573-8e7f-4d71-92f4-afc3b5ed45ba",
   "metadata": {},
   "outputs": [],
   "source": [
    "# placeholder"
   ]
  },
  {
   "cell_type": "code",
   "execution_count": null,
   "id": "37650f14-3137-43e9-957e-ffadb3ecce86",
   "metadata": {},
   "outputs": [],
   "source": []
  }
 ],
 "metadata": {
  "kernelspec": {
   "display_name": "Python 3 (ipykernel)",
   "language": "python",
   "name": "python3"
  },
  "language_info": {
   "codemirror_mode": {
    "name": "ipython",
    "version": 3
   },
   "file_extension": ".py",
   "mimetype": "text/x-python",
   "name": "python",
   "nbconvert_exporter": "python",
   "pygments_lexer": "ipython3",
   "version": "3.11.4"
  }
 },
 "nbformat": 4,
 "nbformat_minor": 5
}
